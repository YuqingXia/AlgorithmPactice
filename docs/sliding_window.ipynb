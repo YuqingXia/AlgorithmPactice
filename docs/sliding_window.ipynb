{
 "cells": [
  {
   "cell_type": "markdown",
   "metadata": {
    "heading_collapsed": true
   },
   "source": [
    "### Introduction"
   ]
  },
  {
   "cell_type": "markdown",
   "metadata": {
    "hidden": true
   },
   "source": [
    "Sliding window questions typically ask you to design algorithm to calculate the stats over a continuous subset of an array efficiently with window length fixed or varied. Typical questions including: maximum sum subarray of size K; smallest subarray with a given sum; longest substring with K distinct characters; etc. "
   ]
  },
  {
   "cell_type": "markdown",
   "metadata": {
    "heading_collapsed": true
   },
   "source": [
    "### Typical Approaching Method"
   ]
  },
  {
   "cell_type": "markdown",
   "metadata": {
    "hidden": true
   },
   "source": [
    "* Dynamics programming: \n",
    "    1. start from the first element, initialize subset state and stats necessary to reach the goal\n",
    "    1. gradually add expand the subset to the right side or sliding the window to the right side\n",
    "    1. by establishing relationsip of state and stats between the new and old set, update state and stats value efficiently\n",
    "    \n",
    "&emsp;&emsp; Typical technique is used here to reduce time complexity is hash map which has O(1) search time but O(n) space complexity"
   ]
  },
  {
   "cell_type": "markdown",
   "metadata": {
    "hidden": true
   },
   "source": [
    "* Divide and Conquer: <br> Such problems can also be solved through divide and conquer method as long as it is easy to derive the result relationship between the complex problem and the small problem sets. But it does not fall into the algorithm of sliding window. So this method will not be dicussed here. "
   ]
  },
  {
   "cell_type": "markdown",
   "metadata": {},
   "source": [
    "### Examples"
   ]
  },
  {
   "cell_type": "markdown",
   "metadata": {},
   "source": [
    "#### lc239 - hard: maximum Sum Subarray of Size K"
   ]
  },
  {
   "cell_type": "markdown",
   "metadata": {},
   "source": [
    "Problems: given an array nums and a sliding window of fixed size k. return the max value of the sliding window. "
   ]
  },
  {
   "cell_type": "markdown",
   "metadata": {},
   "source": [
    "Analysis: for sliding window problem, the most important thing is to establish the stats relationship between the old set and new set so we can solve the problem in relatively small time. \n",
    "* If the new element moved out is not the maximum, we only need to compare the maximum element with the new element\n",
    "* If the new element moved out is the maximum, we need a way to quickly find the maximum value with new set. One way is to maintain a max heap for each sliding. the complexity is O(logK) but we need a map from the index to the heap position which cost O(k). So this method will cause O(nlogK) time complexity"
   ]
  },
  {
   "cell_type": "markdown",
   "metadata": {},
   "source": [
    "* A more efficient algorithm can be established based on the facts that: we only care about the max value and those value behind the max value. So we can use a double-ended queue, each time, when we add a new element, remove the smaller value before it until the value bigger than it met or empty queue met. We also need an additional index to track the position of the first element in the queue so when we know whether it falls out of the sliding window or not"
   ]
  },
  {
   "cell_type": "code",
   "execution_count": null,
   "metadata": {},
   "outputs": [],
   "source": []
  }
 ],
 "metadata": {
  "kernelspec": {
   "display_name": "Python 3",
   "language": "python",
   "name": "python3"
  },
  "language_info": {
   "codemirror_mode": {
    "name": "ipython",
    "version": 3
   },
   "file_extension": ".py",
   "mimetype": "text/x-python",
   "name": "python",
   "nbconvert_exporter": "python",
   "pygments_lexer": "ipython3",
   "version": "3.7.4"
  },
  "toc": {
   "base_numbering": 1,
   "nav_menu": {},
   "number_sections": true,
   "sideBar": true,
   "skip_h1_title": false,
   "title_cell": "Table of Contents",
   "title_sidebar": "Contents",
   "toc_cell": false,
   "toc_position": {},
   "toc_section_display": true,
   "toc_window_display": false
  }
 },
 "nbformat": 4,
 "nbformat_minor": 2
}
